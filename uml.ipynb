{
  "cells": [
    {
      "cell_type": "code",
      "execution_count": null,
      "metadata": {
        "colab": {
          "base_uri": "https://localhost:8080/"
        },
        "id": "oM7eYEAx-EIX",
        "outputId": "73ef1ae8-29a2-4afd-b3e5-c7696f4ed316"
      },
      "outputs": [
        {
          "name": "stdout",
          "output_type": "stream",
          "text": [
            "Requirement already satisfied: plantuml in /usr/local/lib/python3.10/dist-packages (0.3.0)\n",
            "Requirement already satisfied: httplib2 in /usr/local/lib/python3.10/dist-packages (from plantuml) (0.21.0)\n",
            "Requirement already satisfied: pyparsing!=3.0.0,!=3.0.1,!=3.0.2,!=3.0.3,<4,>=2.4.2 in /usr/local/lib/python3.10/dist-packages (from httplib2->plantuml) (3.1.0)\n",
            "\u001b[2K     \u001b[90m━━━━━━━━━━━━━━━━━━━━━━━━━━━━━━━━━━━━━━━\u001b[0m \u001b[32m122.9/122.9 kB\u001b[0m \u001b[31m3.8 MB/s\u001b[0m eta \u001b[36m0:00:00\u001b[0m\n",
            "\u001b[2K     \u001b[90m━━━━━━━━━━━━━━━━━━━━━━━━━━━━━━━━━━━━━━\u001b[0m \u001b[32m113.3/113.3 kB\u001b[0m \u001b[31m11.2 MB/s\u001b[0m eta \u001b[36m0:00:00\u001b[0m\n",
            "\u001b[?25h"
          ]
        }
      ],
      "source": [
        "!pip install plantuml\n",
        "!pip install -q google-generativeai"
      ]
    },
    {
      "cell_type": "code",
      "execution_count": null,
      "metadata": {
        "id": "IVvNZ2i1-45V"
      },
      "outputs": [],
      "source": [
        "import pprint\n",
        "import google.generativeai as palm"
      ]
    },
    {
      "cell_type": "code",
      "execution_count": null,
      "metadata": {
        "id": "J9uyVR5u-7xp"
      },
      "outputs": [],
      "source": [
        "palm.configure(api_key='')"
      ]
    },
    {
      "cell_type": "code",
      "execution_count": null,
      "metadata": {
        "colab": {
          "base_uri": "https://localhost:8080/",
          "height": 227
        },
        "id": "jJq5SP8T_SGV",
        "outputId": "2ac774f6-7864-4d05-f7c2-8996209288d7"
      },
      "outputs": [
        {
          "data": {
            "application/vnd.google.colaboratory.intrinsic+json": {
              "type": "string"
            },
            "text/plain": [
              "'Here is a plantuml code for a banking website:\\n\\n```\\n@startuml\\n\\n[Banking Website]\\n\\n[User] -> [Login Page] : username, password\\n[Login Page] -> [Home Page] : success\\n[Login Page] -> [Error Page] : failure\\n\\n[Home Page] -> [Account Summary] : success\\n[Home Page] -> [Transfer Money] : success\\n[Home Page] -> [Pay Bill] : success\\n[Home Page] -> [Logout] : success\\n\\n[Account Summary] -> [Deposit Money] : success\\n[Account Summary] -> [Withdraw Money] : success\\n[Account Summary] -> [Transfer Money] : success\\n[Account Summary] -> [Pay Bill] : success\\n[Account Summary] -> [Logout] : success\\n\\n[Transfer Money] -> [To Account] : success\\n[Transfer Money] -> [From Account] : success\\n[Transfer Money] -> [Amount] : success\\n[Transfer Money] -> [Confirm] : success\\n[Transfer Money] -> [Error Page] : failure\\n\\n[Pay Bill] -> [Biller] : success\\n[Pay Bill] -> [Amount] : success\\n[Pay Bill] -> [Confirm] : success\\n[Pay Bill] -> [Error Page] : failure\\n\\n[Logout] -> [Home Page] : success\\n\\n@enduml\\n```'"
            ]
          },
          "execution_count": 27,
          "metadata": {},
          "output_type": "execute_result"
        }
      ],
      "source": [
        "# Create a new conversation\n",
        "response = palm.chat(messages='Generate the plantuml code for a banking website. Please provide only the necessary code for the function to run without any additional comments or messages.')\n",
        "\n",
        "# Last contains the model's response:\n",
        "response.last"
      ]
    },
    {
      "cell_type": "code",
      "execution_count": null,
      "metadata": {
        "id": "4GYW7yn5B9q0"
      },
      "outputs": [],
      "source": [
        "with open(\"output.txt\", \"w\") as f:\n",
        "    f.write(response.last)\n"
      ]
    },
    {
      "cell_type": "code",
      "execution_count": null,
      "metadata": {
        "colab": {
          "base_uri": "https://localhost:8080/"
        },
        "id": "B45OYXgWDOZ_",
        "outputId": "c8a5e5db-a25b-4755-f8ce-524a44b52766"
      },
      "outputs": [
        {
          "name": "stdout",
          "output_type": "stream",
          "text": [
            "\n"
          ]
        }
      ],
      "source": [
        "# Open and read the file\n",
        "with open('output.txt', 'r') as file:\n",
        "    file_contents = file.read()\n",
        "\n",
        "# Find all occurrences of text within ''' '''\n",
        "extracted_text = []\n",
        "for line in file_contents.split('\\n'):\n",
        "    start_index = line.find(\"'''\")\n",
        "    end_index = line.rfind(\"'''\")\n",
        "    if start_index != -1 and end_index != -1:\n",
        "        extracted_text.append(line[start_index+3:end_index])\n",
        "\n",
        "# Join the extracted text into a single string\n",
        "diagram_text = ''.join(extracted_text)\n",
        "\n",
        "print(diagram_text)\n",
        "\n"
      ]
    },
    {
      "cell_type": "code",
      "execution_count": null,
      "metadata": {
        "colab": {
          "base_uri": "https://localhost:8080/",
          "height": 432
        },
        "id": "wp7bS2UX-JWv",
        "outputId": "db7f5c69-4def-476b-cc06-f50286da51f1"
      },
      "outputs": [
        {
          "ename": "AttributeError",
          "evalue": "ignored",
          "output_type": "error",
          "traceback": [
            "\u001b[0;31m---------------------------------------------------------------------------\u001b[0m",
            "\u001b[0;31mAttributeError\u001b[0m                            Traceback (most recent call last)",
            "\u001b[0;32m<ipython-input-17-c9d1e8494083>\u001b[0m in \u001b[0;36m<cell line: 51>\u001b[0;34m()\u001b[0m\n\u001b[1;32m     49\u001b[0m \u001b[0;31m# image = plantuml.PlantUML(url='http://www.plantuml.com/plantuml/img/').processes(uml)\u001b[0m\u001b[0;34m\u001b[0m\u001b[0;34m\u001b[0m\u001b[0m\n\u001b[1;32m     50\u001b[0m \u001b[0;34m\u001b[0m\u001b[0m\n\u001b[0;32m---> 51\u001b[0;31m \u001b[0mimage\u001b[0m \u001b[0;34m=\u001b[0m \u001b[0mplantuml\u001b[0m\u001b[0;34m.\u001b[0m\u001b[0mPlantUML\u001b[0m\u001b[0;34m(\u001b[0m \u001b[0murl\u001b[0m\u001b[0;34m=\u001b[0m\u001b[0;34m'http://www.plantuml.com/plantuml/img/'\u001b[0m\u001b[0;34m)\u001b[0m\u001b[0;34m.\u001b[0m\u001b[0mprocesses_file\u001b[0m\u001b[0;34m(\u001b[0m\u001b[0;34m'output.txt'\u001b[0m\u001b[0;34m)\u001b[0m\u001b[0;34m\u001b[0m\u001b[0;34m\u001b[0m\u001b[0m\n\u001b[0m\u001b[1;32m     52\u001b[0m \u001b[0;34m\u001b[0m\u001b[0m\n\u001b[1;32m     53\u001b[0m \u001b[0;31m# Save image to file\u001b[0m\u001b[0;34m\u001b[0m\u001b[0;34m\u001b[0m\u001b[0m\n",
            "\u001b[0;32m/usr/local/lib/python3.10/dist-packages/plantuml.py\u001b[0m in \u001b[0;36mprocesses_file\u001b[0;34m(self, filename, outfile, errorfile, directory)\u001b[0m\n\u001b[1;32m    197\u001b[0m         \u001b[0mdata\u001b[0m \u001b[0;34m=\u001b[0m \u001b[0mopen\u001b[0m\u001b[0;34m(\u001b[0m\u001b[0mfilename\u001b[0m\u001b[0;34m)\u001b[0m\u001b[0;34m.\u001b[0m\u001b[0mread\u001b[0m\u001b[0;34m(\u001b[0m\u001b[0;34m)\u001b[0m\u001b[0;34m\u001b[0m\u001b[0;34m\u001b[0m\u001b[0m\n\u001b[1;32m    198\u001b[0m         \u001b[0;32mtry\u001b[0m\u001b[0;34m:\u001b[0m\u001b[0;34m\u001b[0m\u001b[0;34m\u001b[0m\u001b[0m\n\u001b[0;32m--> 199\u001b[0;31m             \u001b[0mcontent\u001b[0m \u001b[0;34m=\u001b[0m \u001b[0mself\u001b[0m\u001b[0;34m.\u001b[0m\u001b[0mprocesses\u001b[0m\u001b[0;34m(\u001b[0m\u001b[0mdata\u001b[0m\u001b[0;34m)\u001b[0m\u001b[0;34m\u001b[0m\u001b[0;34m\u001b[0m\u001b[0m\n\u001b[0m\u001b[1;32m    200\u001b[0m         \u001b[0;32mexcept\u001b[0m \u001b[0mPlantUMLHTTPError\u001b[0m \u001b[0;32mas\u001b[0m \u001b[0me\u001b[0m\u001b[0;34m:\u001b[0m\u001b[0;34m\u001b[0m\u001b[0;34m\u001b[0m\u001b[0m\n\u001b[1;32m    201\u001b[0m             \u001b[0merr\u001b[0m \u001b[0;34m=\u001b[0m \u001b[0mopen\u001b[0m\u001b[0;34m(\u001b[0m\u001b[0mpath\u001b[0m\u001b[0;34m.\u001b[0m\u001b[0mjoin\u001b[0m\u001b[0;34m(\u001b[0m\u001b[0mdirectory\u001b[0m\u001b[0;34m,\u001b[0m \u001b[0merrorfile\u001b[0m\u001b[0;34m)\u001b[0m\u001b[0;34m,\u001b[0m \u001b[0;34m'w'\u001b[0m\u001b[0;34m)\u001b[0m\u001b[0;34m\u001b[0m\u001b[0;34m\u001b[0m\u001b[0m\n",
            "\u001b[0;32m/usr/local/lib/python3.10/dist-packages/plantuml.py\u001b[0m in \u001b[0;36mprocesses\u001b[0;34m(self, plantuml_text)\u001b[0m\n\u001b[1;32m    171\u001b[0m             \u001b[0;32mraise\u001b[0m \u001b[0mPlantUMLConnectionError\u001b[0m\u001b[0;34m(\u001b[0m\u001b[0me\u001b[0m\u001b[0;34m)\u001b[0m\u001b[0;34m\u001b[0m\u001b[0;34m\u001b[0m\u001b[0m\n\u001b[1;32m    172\u001b[0m         \u001b[0;32mif\u001b[0m \u001b[0mresponse\u001b[0m\u001b[0;34m.\u001b[0m\u001b[0mstatus\u001b[0m \u001b[0;34m!=\u001b[0m \u001b[0;36m200\u001b[0m\u001b[0;34m:\u001b[0m\u001b[0;34m\u001b[0m\u001b[0;34m\u001b[0m\u001b[0m\n\u001b[0;32m--> 173\u001b[0;31m             \u001b[0;32mraise\u001b[0m \u001b[0mPlantUMLHTTPError\u001b[0m\u001b[0;34m(\u001b[0m\u001b[0mresponse\u001b[0m\u001b[0;34m,\u001b[0m \u001b[0mcontent\u001b[0m\u001b[0;34m)\u001b[0m\u001b[0;34m\u001b[0m\u001b[0;34m\u001b[0m\u001b[0m\n\u001b[0m\u001b[1;32m    174\u001b[0m         \u001b[0;32mreturn\u001b[0m \u001b[0mcontent\u001b[0m\u001b[0;34m\u001b[0m\u001b[0;34m\u001b[0m\u001b[0m\n\u001b[1;32m    175\u001b[0m \u001b[0;34m\u001b[0m\u001b[0m\n",
            "\u001b[0;32m/usr/local/lib/python3.10/dist-packages/plantuml.py\u001b[0m in \u001b[0;36m__init__\u001b[0;34m(self, response, content, *args, **kwdargs)\u001b[0m\n\u001b[1;32m     54\u001b[0m         \u001b[0mself\u001b[0m\u001b[0;34m.\u001b[0m\u001b[0mresponse\u001b[0m \u001b[0;34m=\u001b[0m \u001b[0mresponse\u001b[0m\u001b[0;34m\u001b[0m\u001b[0;34m\u001b[0m\u001b[0m\n\u001b[1;32m     55\u001b[0m         \u001b[0mself\u001b[0m\u001b[0;34m.\u001b[0m\u001b[0mcontent\u001b[0m \u001b[0;34m=\u001b[0m \u001b[0mcontent\u001b[0m\u001b[0;34m\u001b[0m\u001b[0;34m\u001b[0m\u001b[0m\n\u001b[0;32m---> 56\u001b[0;31m         \u001b[0;32mif\u001b[0m \u001b[0;32mnot\u001b[0m \u001b[0mself\u001b[0m\u001b[0;34m.\u001b[0m\u001b[0mmessage\u001b[0m\u001b[0;34m:\u001b[0m\u001b[0;34m\u001b[0m\u001b[0;34m\u001b[0m\u001b[0m\n\u001b[0m\u001b[1;32m     57\u001b[0m             self.message = \"%d: %s\" % (\n\u001b[1;32m     58\u001b[0m                 self.response.status, self.response.reason)\n",
            "\u001b[0;31mAttributeError\u001b[0m: 'PlantUMLHTTPError' object has no attribute 'message'"
          ]
        }
      ],
      "source": [
        "import plantuml\n",
        "\n",
        "# Define PlantUML markup\n",
        "uml = '''\n",
        "@startuml\n",
        "class BankWebsite {\n",
        "  - Account[] accounts\n",
        "  - Customer[] customers\n",
        "  - Transaction[] transactions\n",
        "  + login()\n",
        "  + viewAccount()\n",
        "  + transferMoney()\n",
        "  + viewTransactions()\n",
        "}\n",
        "\n",
        "class Account {\n",
        "  - int accountNumber\n",
        "  - double balance\n",
        "  - String accountType\n",
        "  + deposit()\n",
        "  + withdraw()\n",
        "  + viewBalance()\n",
        "}\n",
        "\n",
        "class Customer {\n",
        "  - String name\n",
        "  - int customerId\n",
        "  - String address\n",
        "  + openAccount()\n",
        "  + closeAccount()\n",
        "  + viewAccount()\n",
        "}\n",
        "\n",
        "class Transaction {\n",
        "  - int transactionId\n",
        "  - double amount\n",
        "  - Date date\n",
        "  - String description\n",
        "  + viewTransaction()\n",
        "  + editTransaction()\n",
        "}\n",
        "\n",
        "BankWebsite --> Account\n",
        "BankWebsite --> Customer\n",
        "BankWebsite --> Transaction\n",
        "@enduml\n",
        "'''\n",
        "# Generate PlantUML diagram image\n",
        "# image = plantuml.PlantUML(url='http://www.plantuml.com/plantuml/img/').processes(uml)\n",
        "\n",
        "image = plantuml.PlantUML( url='http://www.plantuml.com/plantuml/img/').processes_file('output.txt')\n",
        "\n",
        "# Save image to file\n",
        "with open('diagram.png', 'wb') as f:\n",
        "    f.write(image)\n"
      ]
    },
    {
      "cell_type": "code",
      "execution_count": null,
      "metadata": {
        "id": "7ntWC_xm-R_h"
      },
      "outputs": [],
      "source": []
    }
  ],
  "metadata": {
    "colab": {
      "provenance": []
    },
    "kernelspec": {
      "display_name": "Python 3",
      "name": "python3"
    },
    "language_info": {
      "name": "python"
    }
  },
  "nbformat": 4,
  "nbformat_minor": 0
}
